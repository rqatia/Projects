{
 "cells": [
  {
   "source": [
    "In this exercise, I received a small set of seven DICOM images. Here, rather than extracting the image itself from the DICOM file, I extracted other attributes that tell us about the image and the patient who is represented in it.\n",
    "\n",
    "To complete this exercise, I created a single dataframe that has the following columns:\n",
    "\n",
    "* Patient ID\n",
    "* Patient Age (as an integer)\n",
    "* Patient Sex (M/F)\n",
    "* Imaging Modality\n",
    "* Type of finding in the image\n",
    "* Number of rows in the image\n",
    "* Number of columns in the image\n",
    "* Print the contents of this dataframe."
   ],
   "cell_type": "markdown",
   "metadata": {}
  }
 ],
 "metadata": {
  "kernelspec": {
   "display_name": "Python 3",
   "language": "python",
   "name": "python3"
  },
  "language_info": {
   "codemirror_mode": {
    "name": "ipython",
    "version": 3
   },
   "file_extension": ".py",
   "mimetype": "text/x-python",
   "name": "python",
   "nbconvert_exporter": "python",
   "pygments_lexer": "ipython3",
   "version": "3.8.5-final"
  }
 },
 "nbformat": 4,
 "nbformat_minor": 2
}