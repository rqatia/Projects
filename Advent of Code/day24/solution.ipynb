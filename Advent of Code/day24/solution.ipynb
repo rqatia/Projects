{
 "cells": [
  {
   "cell_type": "code",
   "execution_count": 1,
   "metadata": {},
   "outputs": [
    {
     "name": "stdout",
     "output_type": "stream",
     "text": [
      "Part 1: 317\n",
      "Part 2: 3804\n"
     ]
    }
   ],
   "source": [
    "DIRECTIONS = {\"e\": [2, 0], \"se\": [1, -1], \"sw\": [-1, -1],\n",
    "              \"w\": [-2, 0], \"nw\": [-1, 1], \"ne\": [1, 1]}\n",
    "\n",
    "\n",
    "def readData(inpath=\"input.txt\"):\n",
    "    with open(inpath, \"r\") as infile:\n",
    "        paths = []\n",
    "        for line in infile.read().splitlines():\n",
    "            instructions = []\n",
    "            curr = \"\"\n",
    "            for i in line:\n",
    "                if curr + i in DIRECTIONS.keys():\n",
    "                    instructions.append(curr + i)\n",
    "                    curr = \"\"\n",
    "                else:\n",
    "                    curr = i\n",
    "            paths.append(instructions)\n",
    "        return paths\n",
    "\n",
    "\n",
    "def initBoard(paths):\n",
    "    flipped = set()\n",
    "    for path in paths:\n",
    "        coords = [0, 0]\n",
    "        for inst in path:\n",
    "            curr = DIRECTIONS[inst]\n",
    "            for i in range(len(coords)):\n",
    "                coords[i] += curr[i]\n",
    "        tuped = tuple(coords)\n",
    "        if tuped not in flipped:\n",
    "            flipped.add(tuped)\n",
    "        else:\n",
    "            flipped.remove(tuped)\n",
    "    return flipped\n",
    "\n",
    "\n",
    "def part1(data):\n",
    "    return len(initBoard(data))\n",
    "\n",
    "\n",
    "def part2(data):\n",
    "    black = initBoard(data)\n",
    "    for _ in range(100):\n",
    "        neighbored = {}\n",
    "        for tile in black:\n",
    "            if tile not in neighbored:\n",
    "                neighbored[tile] = 0\n",
    "            for token in DIRECTIONS.keys():\n",
    "                curr = list(tile)\n",
    "                for j in range(len(curr)):\n",
    "                    curr[j] += DIRECTIONS[token][j]\n",
    "                curr = tuple(curr)\n",
    "                if curr not in neighbored.keys():\n",
    "                    neighbored[curr] = 1\n",
    "                else:\n",
    "                    neighbored[curr] += 1\n",
    "        newBlack = set()\n",
    "        for tile in neighbored:\n",
    "            if (tile in black and neighbored[tile] in [1, 2]) or \\\n",
    "                    (tile not in black and neighbored[tile] == 2):\n",
    "                newBlack.add(tile)\n",
    "        black = newBlack\n",
    "    return len(black)\n",
    "\n",
    "\n",
    "def main():\n",
    "    data = readData()\n",
    "    print(f\"Part 1: {part1(data)}\\nPart 2: {part2(data)}\")\n",
    "\n",
    "\n",
    "main()"
   ]
  },
  {
   "cell_type": "code",
   "execution_count": null,
   "metadata": {},
   "outputs": [],
   "source": []
  }
 ],
 "metadata": {
  "kernelspec": {
   "display_name": "Python 3",
   "language": "python",
   "name": "python3"
  },
  "language_info": {
   "codemirror_mode": {
    "name": "ipython",
    "version": 3
   },
   "file_extension": ".py",
   "mimetype": "text/x-python",
   "name": "python",
   "nbconvert_exporter": "python",
   "pygments_lexer": "ipython3",
   "version": "3.8.5"
  }
 },
 "nbformat": 4,
 "nbformat_minor": 4
}
