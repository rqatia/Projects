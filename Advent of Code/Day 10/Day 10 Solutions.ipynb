{
 "cells": [
  {
   "cell_type": "code",
   "execution_count": 1,
   "metadata": {
    "ExecuteTime": {
     "end_time": "2020-12-13T21:04:35.889232Z",
     "start_time": "2020-12-13T21:04:35.870234Z"
    }
   },
   "outputs": [],
   "source": [
    "def readAdapters(inpath=\"input.txt\"):\n",
    "    with open(inpath, 'r') as infile:\n",
    "        return [0] + sorted(list(map(int, infile.read().splitlines())))"
   ]
  },
  {
   "cell_type": "code",
   "execution_count": 2,
   "metadata": {
    "ExecuteTime": {
     "end_time": "2020-12-13T21:04:43.816837Z",
     "start_time": "2020-12-13T21:04:43.809823Z"
    }
   },
   "outputs": [],
   "source": [
    "def part1(adapters):\n",
    "    diffs = {1: 0, 2: 0, 3: 1}\n",
    "    for i in range(1, len(adapters)):\n",
    "        diffs[adapters[i] - adapters[i - 1]] += 1\n",
    "    return diffs[1] * diffs[3]"
   ]
  },
  {
   "cell_type": "code",
   "execution_count": 3,
   "metadata": {
    "ExecuteTime": {
     "end_time": "2020-12-13T21:04:52.719446Z",
     "start_time": "2020-12-13T21:04:52.701432Z"
    }
   },
   "outputs": [],
   "source": [
    "def part2(adapters):\n",
    "    paths = [1] + [0] * (len(adapters) - 1)\n",
    "    for i, adapter in enumerate(adapters):\n",
    "        for j in range(i - 3, i):\n",
    "            if(adapter - adapters[j] <= 3):\n",
    "                paths[i] += paths[j]\n",
    "\n",
    "    return paths[-1]"
   ]
  },
  {
   "cell_type": "code",
   "execution_count": 4,
   "metadata": {
    "ExecuteTime": {
     "end_time": "2020-12-13T21:04:58.187579Z",
     "start_time": "2020-12-13T21:04:58.171583Z"
    }
   },
   "outputs": [
    {
     "name": "stdout",
     "output_type": "stream",
     "text": [
      "Part 1: 2592\n",
      "Part 2: 198428693313536\n"
     ]
    }
   ],
   "source": [
    "def main():\n",
    "    adapters = readAdapters()\n",
    "    print(f\"Part 1: {part1(adapters)}\\nPart 2: {part2(adapters)}\")\n",
    "\n",
    "\n",
    "main()"
   ]
  },
  {
   "cell_type": "code",
   "execution_count": null,
   "metadata": {},
   "outputs": [],
   "source": []
  }
 ],
 "metadata": {
  "kernelspec": {
   "display_name": "Python 3",
   "language": "python",
   "name": "python3"
  },
  "language_info": {
   "codemirror_mode": {
    "name": "ipython",
    "version": 3
   },
   "file_extension": ".py",
   "mimetype": "text/x-python",
   "name": "python",
   "nbconvert_exporter": "python",
   "pygments_lexer": "ipython3",
   "version": "3.8.5"
  }
 },
 "nbformat": 4,
 "nbformat_minor": 4
}
