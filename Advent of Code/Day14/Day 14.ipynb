{
 "cells": [
  {
   "cell_type": "code",
   "execution_count": 1,
   "metadata": {
    "ExecuteTime": {
     "end_time": "2020-12-14T20:14:52.498745Z",
     "start_time": "2020-12-14T20:14:52.271171Z"
    }
   },
   "outputs": [
    {
     "name": "stdout",
     "output_type": "stream",
     "text": [
      "Part 1: 10050490168421\n",
      "Part 2: 2173858456958\n"
     ]
    }
   ],
   "source": [
    "def readInsts(inpath=\"input.txt\"):\n",
    "    with open(inpath, \"r\") as infile:\n",
    "        return list(map(lambda x: x.split(\" = \"), infile.read().splitlines()))\n",
    "\n",
    "\n",
    "def part1(insts):\n",
    "    vals = {}\n",
    "    mask = \"X\" * 36\n",
    "    for inst in insts:\n",
    "        if inst[0] == \"mask\":\n",
    "            mask = inst[1]\n",
    "        else:\n",
    "            curr = list(mask)\n",
    "            ind = inst[0][4:-1]\n",
    "            val = str(bin(int(inst[1])))[2:]\n",
    "            val = \"0\" * (len(curr) - len(val)) + val\n",
    "            for i in range(len(curr)):\n",
    "                if curr[i] == \"X\":\n",
    "                    curr[i] = val[i]\n",
    "            vals[ind] = int(\"\".join(curr), 2)\n",
    "    return sum(vals.values())\n",
    "\n",
    "\n",
    "def part2(insts):\n",
    "    vals = {}\n",
    "    mask = \"0\" * 36\n",
    "    for inst in insts:\n",
    "        if inst[0] == \"mask\":\n",
    "            mask = inst[1]\n",
    "        else:\n",
    "            curr = list(mask)\n",
    "            ind = str(bin(int(inst[0][4:-1])))[2:]\n",
    "            ind = \"0\" * (len(curr) - len(ind)) + ind\n",
    "            val = int(inst[1])\n",
    "            floating = []\n",
    "\n",
    "            for i in range(len(curr)):\n",
    "                if curr[i] == \"0\":\n",
    "                    curr[i] = ind[i]\n",
    "                if curr[i] == \"X\":\n",
    "                    floating.append(i)\n",
    "\n",
    "            for i in range(2 ** len(floating)):\n",
    "                currind = curr[:]\n",
    "                binstr = str(bin(i))[2:]\n",
    "                binstr = \"0\" * (len(floating) - len(binstr)) + binstr\n",
    "                for i, j in zip(floating, binstr):\n",
    "                    currind[i] = j\n",
    "                vals[\"\".join(currind)] = val\n",
    "    return sum(vals.values())\n",
    "\n",
    "\n",
    "def main():\n",
    "    insts = readInsts()\n",
    "    print(f\"Part 1: {part1(insts)}\\nPart 2: {part2(insts)}\")\n",
    "\n",
    "\n",
    "main()"
   ]
  },
  {
   "cell_type": "code",
   "execution_count": null,
   "metadata": {},
   "outputs": [],
   "source": []
  }
 ],
 "metadata": {
  "kernelspec": {
   "display_name": "Python 3",
   "language": "python",
   "name": "python3"
  },
  "language_info": {
   "codemirror_mode": {
    "name": "ipython",
    "version": 3
   },
   "file_extension": ".py",
   "mimetype": "text/x-python",
   "name": "python",
   "nbconvert_exporter": "python",
   "pygments_lexer": "ipython3",
   "version": "3.8.5"
  }
 },
 "nbformat": 4,
 "nbformat_minor": 4
}
