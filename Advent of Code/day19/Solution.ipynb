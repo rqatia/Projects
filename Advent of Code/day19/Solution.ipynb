{
 "metadata": {
  "language_info": {
   "codemirror_mode": {
    "name": "ipython",
    "version": 3
   },
   "file_extension": ".py",
   "mimetype": "text/x-python",
   "name": "python",
   "nbconvert_exporter": "python",
   "pygments_lexer": "ipython3",
   "version": "3.8.5-final"
  },
  "orig_nbformat": 2,
  "kernelspec": {
   "name": "python3",
   "display_name": "Python 3",
   "language": "python"
  }
 },
 "nbformat": 4,
 "nbformat_minor": 2,
 "cells": [
  {
   "cell_type": "code",
   "execution_count": 1,
   "metadata": {},
   "outputs": [
    {
     "output_type": "stream",
     "name": "stdout",
     "text": [
      "Part 1: 156\nPart 2: 363\n"
     ]
    }
   ],
   "source": [
    "def parseRules(rawRules):\n",
    "    rules = {}\n",
    "    for line in rawRules.split('\\n'):\n",
    "        k, rule = line.split(': ')\n",
    "        if rule[0] == '\"':\n",
    "            rule = rule[1:-1]\n",
    "        else:\n",
    "            rule = [seq.split(' ') if ' ' in seq else [seq]\n",
    "                    for seq in (rule.split(' | ') if ' | ' in rule else [rule])]\n",
    "        rules[k] = rule\n",
    "    return rules\n",
    "\n",
    "\n",
    "def readData(inpath=\"input.txt\"):\n",
    "    with open(inpath, 'r') as infile:\n",
    "        rawRules, rawStrings = infile.read().split(\"\\n\\n\")\n",
    "        return parseRules(rawRules), rawStrings.split(\"\\n\")\n",
    "\n",
    "\n",
    "def checkSequence(grammar, seq, string):\n",
    "    if not seq:\n",
    "        yield string\n",
    "    else:\n",
    "        index, *seq = seq\n",
    "        for string in run(grammar, index, string):\n",
    "            yield from checkSequence(grammar, seq, string)\n",
    "\n",
    "\n",
    "def runExpand(grammar, alt, string):\n",
    "    for seq in alt:\n",
    "        yield from checkSequence(grammar, seq, string)\n",
    "\n",
    "\n",
    "def run(grammar, index, string):\n",
    "    if isinstance(grammar[index], list):\n",
    "        yield from runExpand(grammar, grammar[index], string)\n",
    "    else:\n",
    "        if string and string[0] == grammar[index]:\n",
    "            yield string[1:]\n",
    "\n",
    "\n",
    "def match(grammar, string):\n",
    "    return any(m == '' for m in run(grammar, '0', string))\n",
    "\n",
    "\n",
    "def part1(rules, strings):\n",
    "    return sum(match(rules, s) for s in strings)\n",
    "\n",
    "\n",
    "def part2(rules, strings):\n",
    "    rules = {**rules, '8': [['42'], ['42', '8']],\n",
    "             '11': [['42', '31'], ['42', '11', '31']]}\n",
    "    return sum(match(rules, s) for s in strings)\n",
    "\n",
    "\n",
    "def main():\n",
    "    rules, strings = readData()\n",
    "    print(f\"Part 1: {part1(rules, strings)}\\nPart 2: {part2(rules, strings)}\")\n",
    "\n",
    "\n",
    "main()\n"
   ]
  },
  {
   "cell_type": "code",
   "execution_count": null,
   "metadata": {},
   "outputs": [],
   "source": []
  }
 ]
}