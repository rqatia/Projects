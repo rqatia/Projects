{
 "cells": [
  {
   "cell_type": "code",
   "execution_count": 23,
   "metadata": {
    "ExecuteTime": {
     "end_time": "2020-12-13T21:14:36.252002Z",
     "start_time": "2020-12-13T21:14:36.237003Z"
    }
   },
   "outputs": [],
   "source": [
    "def readGrid(inpath=\"input.txt\"):\n",
    "    with open(inpath, \"r\") as infile:\n",
    "        return list(map(list, infile.read().splitlines()))"
   ]
  },
  {
   "cell_type": "code",
   "execution_count": 24,
   "metadata": {
    "ExecuteTime": {
     "end_time": "2020-12-13T21:14:36.718010Z",
     "start_time": "2020-12-13T21:14:36.711014Z"
    }
   },
   "outputs": [],
   "source": [
    "def run(grid, check, tol):\n",
    "    while True:\n",
    "        toFill = []\n",
    "        toEmpty = []\n",
    "        for i in range(len(grid)):\n",
    "            for j in range(len(grid[0])):\n",
    "                curr = grid[i][j]\n",
    "                if curr == \".\":\n",
    "                    continue\n",
    "                adjCount = check(grid, i, j)\n",
    "                if curr == \"L\" and adjCount == 0:\n",
    "                    toFill.append((i, j))\n",
    "                elif curr == \"#\" and adjCount >= tol:\n",
    "                    toEmpty.append((i, j))\n",
    "        for seat in toFill:\n",
    "            grid[seat[0]][seat[1]] = \"#\"\n",
    "        for seat in toEmpty:\n",
    "            grid[seat[0]][seat[1]] = \"L\"\n",
    "        if len(toFill) + len(toEmpty) == 0:\n",
    "            return sum(map(lambda x: x.count(\"#\"), grid))"
   ]
  },
  {
   "cell_type": "code",
   "execution_count": 25,
   "metadata": {
    "ExecuteTime": {
     "end_time": "2020-12-13T21:14:37.108363Z",
     "start_time": "2020-12-13T21:14:37.102361Z"
    }
   },
   "outputs": [],
   "source": [
    "def checkAdj(grid, i, j):\n",
    "    count = 0\n",
    "    for y in range(max(0, i-1), min(len(grid), i+2)):\n",
    "        for x in range(max(0, j-1), min(len(grid[1]), j+2)):\n",
    "            if not(y == i and x == j) and grid[y][x] == \"#\":\n",
    "                count += 1\n",
    "    return count"
   ]
  },
  {
   "cell_type": "code",
   "execution_count": 26,
   "metadata": {
    "ExecuteTime": {
     "end_time": "2020-12-13T21:14:37.440360Z",
     "start_time": "2020-12-13T21:14:37.422358Z"
    }
   },
   "outputs": [],
   "source": [
    "def part1(grid):\n",
    "    return run(grid, checkAdj, 4)"
   ]
  },
  {
   "cell_type": "code",
   "execution_count": 27,
   "metadata": {
    "ExecuteTime": {
     "end_time": "2020-12-13T21:14:37.832327Z",
     "start_time": "2020-12-13T21:14:37.823320Z"
    }
   },
   "outputs": [],
   "source": [
    "DIRS = [(1, 0), (-1, 0), (0, 1), (0, -1), (1, 1), (1, -1), (-1, 1), (-1, -1)]"
   ]
  },
  {
   "cell_type": "code",
   "execution_count": 28,
   "metadata": {
    "ExecuteTime": {
     "end_time": "2020-12-13T21:14:38.280350Z",
     "start_time": "2020-12-13T21:14:38.272349Z"
    }
   },
   "outputs": [],
   "source": [
    "def checkVis(grid, i, j):\n",
    "    count = 0\n",
    "    for dir in DIRS:\n",
    "        curr = [i + dir[0], j + dir[1]]\n",
    "        found = False\n",
    "        while (0 <= curr[0] < len(grid)) and (0 <= curr[1] < len(grid[0])) and not found:\n",
    "            currVal = grid[curr[0]][curr[1]]\n",
    "            if currVal == \"#\":\n",
    "                count += 1\n",
    "                found = True\n",
    "            elif currVal == \"L\":\n",
    "                found = True\n",
    "            else:\n",
    "                curr[0] += dir[0]\n",
    "                curr[1] += dir[1]\n",
    "    return count"
   ]
  },
  {
   "cell_type": "code",
   "execution_count": 29,
   "metadata": {
    "ExecuteTime": {
     "end_time": "2020-12-13T21:14:38.779001Z",
     "start_time": "2020-12-13T21:14:38.768989Z"
    }
   },
   "outputs": [],
   "source": [
    "def part2(grid):\n",
    "    return run(grid, checkVis, 5)"
   ]
  },
  {
   "cell_type": "code",
   "execution_count": 30,
   "metadata": {
    "ExecuteTime": {
     "end_time": "2020-12-13T21:14:39.163920Z",
     "start_time": "2020-12-13T21:14:39.152919Z"
    }
   },
   "outputs": [],
   "source": [
    "def main():\n",
    "    grid = readGrid()\n",
    "    from copy import deepcopy\n",
    "    print(f\"Part 1: {part1(deepcopy(grid))}\\nPart 2: {part2(grid)}\")"
   ]
  },
  {
   "cell_type": "code",
   "execution_count": 22,
   "metadata": {
    "ExecuteTime": {
     "end_time": "2020-12-13T21:14:33.971698Z",
     "start_time": "2020-12-13T21:14:22.514625Z"
    }
   },
   "outputs": [
    {
     "name": "stdout",
     "output_type": "stream",
     "text": [
      "Part 1: 2152\n",
      "Part 2: 1937\n"
     ]
    }
   ],
   "source": [
    "main()"
   ]
  },
  {
   "cell_type": "code",
   "execution_count": null,
   "metadata": {},
   "outputs": [],
   "source": []
  }
 ],
 "metadata": {
  "kernelspec": {
   "display_name": "Python 3",
   "language": "python",
   "name": "python3"
  },
  "language_info": {
   "codemirror_mode": {
    "name": "ipython",
    "version": 3
   },
   "file_extension": ".py",
   "mimetype": "text/x-python",
   "name": "python",
   "nbconvert_exporter": "python",
   "pygments_lexer": "ipython3",
   "version": "3.8.5"
  }
 },
 "nbformat": 4,
 "nbformat_minor": 4
}
