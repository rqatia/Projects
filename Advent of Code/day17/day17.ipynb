{
 "cells": [
  {
   "cell_type": "code",
   "execution_count": 1,
   "metadata": {
    "ExecuteTime": {
     "end_time": "2020-12-17T18:43:39.131916Z",
     "start_time": "2020-12-17T18:43:39.120919Z"
    }
   },
   "outputs": [],
   "source": [
    "from itertools import product"
   ]
  },
  {
   "cell_type": "code",
   "execution_count": 2,
   "metadata": {
    "ExecuteTime": {
     "end_time": "2020-12-17T18:43:48.181915Z",
     "start_time": "2020-12-17T18:43:48.164919Z"
    }
   },
   "outputs": [],
   "source": [
    "def readInit(inpath=\"input.txt\"):\n",
    "    with open(inpath, \"r\") as infile:\n",
    "        return infile.read().splitlines()"
   ]
  },
  {
   "cell_type": "code",
   "execution_count": 3,
   "metadata": {
    "ExecuteTime": {
     "end_time": "2020-12-17T18:43:58.563921Z",
     "start_time": "2020-12-17T18:43:58.557920Z"
    }
   },
   "outputs": [],
   "source": [
    "def initOn(init, dimensions):\n",
    "    on = set()\n",
    "    for i, row in enumerate(init):\n",
    "        for j, val in enumerate(row):\n",
    "            if val == '#':\n",
    "                on.add(tuple([i, j] + [0] * (dimensions-2)))\n",
    "    return on"
   ]
  },
  {
   "cell_type": "code",
   "execution_count": 4,
   "metadata": {
    "ExecuteTime": {
     "end_time": "2020-12-17T18:44:07.668919Z",
     "start_time": "2020-12-17T18:44:07.648925Z"
    }
   },
   "outputs": [],
   "source": [
    "def iter(init, dimensions, steps):\n",
    "    on = initOn(init, dimensions)\n",
    "    for _ in range(steps):\n",
    "        c = {}\n",
    "        for loc in on:\n",
    "            for neighbor in product([-1, 0, 1], repeat=dimensions):\n",
    "                new = tuple(map(sum, zip(loc, neighbor)))\n",
    "                if new != loc:\n",
    "                    if new not in c.keys():\n",
    "                        c[new] = 1\n",
    "                    else:\n",
    "                        c[new] += 1\n",
    "        stayOn = set(\n",
    "            [loc for loc in on if loc in c.keys() and c[loc] in [2, 3]])\n",
    "        turnOn = set([loc for loc, v in c.items()\n",
    "                      if loc not in on and v == 3])\n",
    "        on = stayOn | turnOn\n",
    "    return len(on)"
   ]
  },
  {
   "cell_type": "code",
   "execution_count": 5,
   "metadata": {
    "ExecuteTime": {
     "end_time": "2020-12-17T18:44:30.646919Z",
     "start_time": "2020-12-17T18:44:29.931924Z"
    }
   },
   "outputs": [
    {
     "name": "stdout",
     "output_type": "stream",
     "text": [
      "Part 1: 265\n",
      "Part 2: 1936\n"
     ]
    }
   ],
   "source": [
    "def part1(init):\n",
    "    return iter(init, 3, 6)\n",
    "\n",
    "\n",
    "def part2(init):\n",
    "    return iter(init, 4, 6)\n",
    "\n",
    "\n",
    "def main():\n",
    "    init = readInit()\n",
    "    print(f\"Part 1: {part1(init)}\\nPart 2: {part2(init)}\")\n",
    "\n",
    "\n",
    "main()"
   ]
  },
  {
   "cell_type": "code",
   "execution_count": null,
   "metadata": {},
   "outputs": [],
   "source": []
  }
 ],
 "metadata": {
  "kernelspec": {
   "display_name": "Python 3",
   "language": "python",
   "name": "python3"
  },
  "language_info": {
   "codemirror_mode": {
    "name": "ipython",
    "version": 3
   },
   "file_extension": ".py",
   "mimetype": "text/x-python",
   "name": "python",
   "nbconvert_exporter": "python",
   "pygments_lexer": "ipython3",
   "version": "3.8.5"
  }
 },
 "nbformat": 4,
 "nbformat_minor": 4
}
