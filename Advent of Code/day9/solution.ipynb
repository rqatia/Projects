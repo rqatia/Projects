{
 "cells": [
  {
   "cell_type": "code",
   "execution_count": 1,
   "metadata": {},
   "outputs": [
    {
     "name": "stdout",
     "output_type": "stream",
     "text": [
      "Part 1: 10884537\n",
      "Part 2: 1261309\n"
     ]
    }
   ],
   "source": [
    "def readCipher(inpath=\"input.txt\"):\n",
    "    with open(inpath, 'r') as infile:\n",
    "        return list(map(int, infile.read().splitlines()))\n",
    "\n",
    "\n",
    "def isValid(i, cipher):\n",
    "    target = cipher[i]\n",
    "    prev = cipher[i-25: i]\n",
    "    if prev.count(target/2) > 1:\n",
    "        return True\n",
    "    prevSet = set(prev)\n",
    "    prevSet.discard(target/2)\n",
    "    for num in prevSet:\n",
    "        if target-num in prevSet:\n",
    "            return True\n",
    "    return False\n",
    "\n",
    "\n",
    "def part1(cipher):\n",
    "    for i in range(25, len(cipher)):\n",
    "        if not isValid(i, cipher):\n",
    "            return cipher[i]\n",
    "\n",
    "\n",
    "def part2(cipher):\n",
    "    target = part1(cipher)\n",
    "    for i, num in enumerate(cipher):\n",
    "        run = [num]\n",
    "        next = i+1\n",
    "        while sum(run) < target:\n",
    "            run.append(cipher[next])\n",
    "            next += 1\n",
    "        if len(run) >= 2 and sum(run) == target:\n",
    "            return min(run) + max(run)\n",
    "\n",
    "\n",
    "def main():\n",
    "    cipher = readCipher()\n",
    "    print(f\"Part 1: {part1(cipher)}\\nPart 2: {part2(cipher)}\")\n",
    "\n",
    "\n",
    "main()\n"
   ]
  },
  {
   "cell_type": "code",
   "execution_count": null,
   "metadata": {},
   "outputs": [],
   "source": []
  }
 ],
 "metadata": {
  "kernelspec": {
   "display_name": "Python 3",
   "language": "python",
   "name": "python3"
  },
  "language_info": {
   "codemirror_mode": {
    "name": "ipython",
    "version": 3
   },
   "file_extension": ".py",
   "mimetype": "text/x-python",
   "name": "python",
   "nbconvert_exporter": "python",
   "pygments_lexer": "ipython3",
   "version": "3.8.5"
  }
 },
 "nbformat": 4,
 "nbformat_minor": 4
}
