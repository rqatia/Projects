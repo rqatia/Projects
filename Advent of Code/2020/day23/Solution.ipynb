{
 "cells": [
  {
   "cell_type": "code",
   "execution_count": 5,
   "metadata": {
    "collapsed": true
   },
   "outputs": [
    {
     "name": "stdout",
     "output_type": "stream",
     "text": [
      "Part 1: 25468379\n",
      "Part 2: 474747880250\n"
     ]
    }
   ],
   "source": [
    "def part1(cups):\n",
    "    for _ in range(100):\n",
    "        removed = cups[1:4]\n",
    "        dest = cups[0] - 1\n",
    "        if dest == 0:\n",
    "            dest = 9\n",
    "        while dest in removed:\n",
    "            dest -= 1\n",
    "            if dest == 0:\n",
    "                dest = 9\n",
    "        without = cups[:1] + cups[4:]\n",
    "        destInd = without.index(dest)\n",
    "        without = without[:destInd+1] + removed + without[destInd+1:]\n",
    "        cups = without[1:] + without[:1]\n",
    "    return \"\".join(str(x) for x in (cups[cups.index(1)+1:] + cups[:cups.index(1)]))\n",
    "\n",
    "\n",
    "class Node:\n",
    "    def __init__(self, val, next=None):\n",
    "        self.val = val\n",
    "        self.next = next\n",
    "\n",
    "\n",
    "def part2(cups):\n",
    "    lookup = {}\n",
    "\n",
    "    prev = None\n",
    "    for i in range(len(cups)-1, -1, -1):\n",
    "        new = Node(cups[i])\n",
    "        new.next = prev\n",
    "        lookup[cups[i]] = new\n",
    "        prev = new\n",
    "\n",
    "    for i in range(1000000, 9, -1):\n",
    "        new = Node(i)\n",
    "        new.next = prev\n",
    "        lookup[i] = new\n",
    "        prev = new\n",
    "\n",
    "    lookup[cups[-1]].next = lookup[10]\n",
    "\n",
    "    cur = lookup[cups[0]]\n",
    "\n",
    "    for _ in range(10000000):\n",
    "        remove1 = cur.next\n",
    "        remove2 = remove1.next\n",
    "        remove3 = remove2.next\n",
    "        cur.next = remove3.next\n",
    "        removed = {cur.val, remove1.val, remove2.val, remove3.val}\n",
    "        cval = cur.val\n",
    "        while cval in removed:\n",
    "            cval -= 1\n",
    "            if cval == 0:\n",
    "                cval = 1000000\n",
    "        targetLoc = lookup[cval]\n",
    "        afterTarget = targetLoc.next\n",
    "\n",
    "        targetLoc.next = remove1\n",
    "        remove3.next = afterTarget\n",
    "\n",
    "        cur = cur.next\n",
    "\n",
    "    cup1 = lookup[1]\n",
    "    remove1 = cup1.next\n",
    "    remove2 = remove1.next\n",
    "\n",
    "    return remove1.val * remove2.val\n",
    "\n",
    "\n",
    "def main():\n",
    "    cups = [int(x) for x in \"193467258\"]\n",
    "\n",
    "    print(f\"Part 1: {part1(cups)}\\nPart 2: {part2(cups)}\")\n",
    "\n",
    "\n",
    "main()\n",
    "\n"
   ]
  }
 ],
 "metadata": {
  "kernelspec": {
   "name": "pycharm-aa22c467",
   "language": "python",
   "display_name": "PyCharm (Advent of Code)"
  },
  "language_info": {
   "codemirror_mode": {
    "name": "ipython",
    "version": 2
   },
   "file_extension": ".py",
   "mimetype": "text/x-python",
   "name": "python",
   "nbconvert_exporter": "python",
   "pygments_lexer": "ipython2",
   "version": "2.7.6"
  }
 },
 "nbformat": 4,
 "nbformat_minor": 0
}