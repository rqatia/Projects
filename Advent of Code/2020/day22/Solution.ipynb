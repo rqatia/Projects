{
 "cells": [
  {
   "cell_type": "code",
   "execution_count": 1,
   "metadata": {
    "collapsed": true
   },
   "outputs": [
    {
     "name": "stdout",
     "output_type": "stream",
     "text": [
      "Part 1: 30197\n",
      "Part 2: 34031\n"
     ]
    }
   ],
   "source": [
    "from copy import deepcopy\n",
    "\n",
    "\n",
    "def readDecks(inpath=\"input.txt\"):\n",
    "    with open(inpath, \"r\") as infile:\n",
    "        return [[int(x) for x in group.splitlines()[1:]] for group in infile.read().split(\"\\n\\n\")]\n",
    "\n",
    "\n",
    "def getScore(deck):\n",
    "    ans = 0\n",
    "    for i, val in enumerate(deck[::-1]):\n",
    "        ans += val * (i+1)\n",
    "    return ans\n",
    "\n",
    "\n",
    "def part1(decks):\n",
    "    while min(len(deck) for deck in decks) > 0:\n",
    "        curr = [deck.pop(0) for deck in decks]\n",
    "        roundWin = curr.index(max(curr))\n",
    "        decks[roundWin].extend(sorted(curr, reverse=True))\n",
    "    return getScore(max(decks))\n",
    "\n",
    "\n",
    "class Game2:\n",
    "    def __init__(self, deck1, deck2):\n",
    "        self.deck1 = deck1\n",
    "        self.deck2 = deck2\n",
    "        self.history = set()\n",
    "\n",
    "    def game(self):\n",
    "        while self.deck1 and self.deck2:\n",
    "            if (tuple(self.deck1), tuple(self.deck2)) in self.history:\n",
    "                return 1\n",
    "            else:\n",
    "                self.history.add((tuple(self.deck1), tuple(self.deck2)))\n",
    "            curr1 = self.deck1.pop(0)\n",
    "            curr2 = self.deck2.pop(0)\n",
    "            if curr1 > len(self.deck1) or curr2 > len(self.deck2):\n",
    "                if curr1 > curr2:\n",
    "                    self.deck1 += [curr1, curr2]\n",
    "                else:\n",
    "                    self.deck2 += [curr2, curr1]\n",
    "            else:\n",
    "                sub = Game2(self.deck1[:curr1], self.deck2[:curr2]).game()\n",
    "                if sub == 1:\n",
    "                    self.deck1 += [curr1, curr2]\n",
    "                else:\n",
    "                    self.deck2 += [curr2, curr1]\n",
    "        return 1 if self.deck1 else 2\n",
    "\n",
    "\n",
    "def part2(decks):\n",
    "    game = Game2(decks[0], decks[1])\n",
    "    winnerNum = game.game()\n",
    "    winner = game.deck1 if winnerNum == 1 else game.deck2\n",
    "    return getScore(winner)\n",
    "\n",
    "\n",
    "def main():\n",
    "    decks = readDecks()\n",
    "    print(f\"Part 1: {part1(deepcopy(decks))}\\nPart 2: {part2(decks)}\")\n",
    "\n",
    "\n",
    "main()\n",
    "\n"
   ]
  }
 ],
 "metadata": {
  "kernelspec": {
   "name": "pycharm-aa22c467",
   "language": "python",
   "display_name": "PyCharm (Advent of Code)"
  },
  "language_info": {
   "codemirror_mode": {
    "name": "ipython",
    "version": 2
   },
   "file_extension": ".py",
   "mimetype": "text/x-python",
   "name": "python",
   "nbconvert_exporter": "python",
   "pygments_lexer": "ipython2",
   "version": "2.7.6"
  }
 },
 "nbformat": 4,
 "nbformat_minor": 0
}