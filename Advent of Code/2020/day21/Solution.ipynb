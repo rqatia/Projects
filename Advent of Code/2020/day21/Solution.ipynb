{
 "cells": [
  {
   "cell_type": "code",
   "execution_count": 1,
   "metadata": {
    "collapsed": true
   },
   "outputs": [
    {
     "name": "stdout",
     "output_type": "stream",
     "text": [
      "Part 1: 2614\n",
      "Part 2: qhvz,kbcpn,fzsl,mjzrj,bmj,mksmf,gptv,kgkrhg\n"
     ]
    }
   ],
   "source": [
    "def readFoods(inpath=\"input.txt\"):\n",
    "    with open(inpath, \"r\") as infile:\n",
    "        foodStrs = infile.read().splitlines()\n",
    "        foods = []\n",
    "        for line in foodStrs:\n",
    "            tokens = line.split(\" (contains \")\n",
    "            ingredients = set(tokens[0].split())\n",
    "            allergens = set(tokens[1][:-1].split(\", \"))\n",
    "            foods.append((ingredients, allergens))\n",
    "        return foods\n",
    "\n",
    "\n",
    "def part1(foods):\n",
    "    foodCount = {}\n",
    "    possible = {}\n",
    "    for ingredients, allergens in foods:\n",
    "        for ingredient in ingredients:\n",
    "            if ingredient not in foodCount.keys():\n",
    "                foodCount[ingredient] = 1\n",
    "            else:\n",
    "                foodCount[ingredient] += 1\n",
    "\n",
    "        for allergen in allergens:\n",
    "            if allergen not in possible:\n",
    "                possible[allergen] = ingredients.copy()\n",
    "            else:\n",
    "                possible[allergen] &= ingredients\n",
    "\n",
    "    allergic = set()\n",
    "    for ingAllergens in possible.values():\n",
    "        allergic.update(ingAllergens)\n",
    "\n",
    "    return sum(foodCount[ing] for ing in (foodCount.keys() - allergic))\n",
    "\n",
    "\n",
    "def part2(foods):\n",
    "    possible = {}\n",
    "    for ingredients, allergens in foods:\n",
    "        for allergen in allergens:\n",
    "            if allergen not in possible:\n",
    "                possible[allergen] = ingredients.copy()\n",
    "            else:\n",
    "                possible[allergen] &= ingredients\n",
    "\n",
    "    found = set()\n",
    "    allergenMap = []\n",
    "    while len(allergenMap) < len(possible.keys()):\n",
    "        for allergen, ingredients in possible.items():\n",
    "            if len(ingredients - found) == 1:\n",
    "                ing = min(ingredients - found)\n",
    "                allergenMap.append((allergen, ing))\n",
    "                found.add(ing)\n",
    "                break\n",
    "\n",
    "    return \",\".join(x[1] for x in sorted(allergenMap))\n",
    "\n",
    "\n",
    "def main():\n",
    "    foods = readFoods()\n",
    "    print(f\"Part 1: {part1(foods)}\\nPart 2: {part2(foods)}\")\n",
    "\n",
    "\n",
    "main()\n"
   ]
  }
 ],
 "metadata": {
  "kernelspec": {
   "display_name": "Python 3",
   "language": "python",
   "name": "python3"
  },
  "language_info": {
   "codemirror_mode": {
    "name": "ipython",
    "version": 2
   },
   "file_extension": ".py",
   "mimetype": "text/x-python",
   "name": "python",
   "nbconvert_exporter": "python",
   "pygments_lexer": "ipython2",
   "version": "2.7.6"
  }
 },
 "nbformat": 4,
 "nbformat_minor": 0
}